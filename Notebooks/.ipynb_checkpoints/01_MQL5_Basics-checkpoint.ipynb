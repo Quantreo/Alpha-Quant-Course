{
 "cells": [
  {
   "cell_type": "markdown",
   "id": "30957071",
   "metadata": {},
   "source": [
    "# MQL5 Basics"
   ]
  },
  {
   "cell_type": "code",
   "execution_count": 1,
   "id": "3a6b9a26",
   "metadata": {},
   "outputs": [],
   "source": [
    "import MetaTrader5 as mt5"
   ]
  },
  {
   "cell_type": "markdown",
   "id": "3d6c8bfa",
   "metadata": {},
   "source": [
    "### Initialize the bound between MetaTrader5 and Python\n",
    "\n",
    "**Don't forget to set in the MetaTrader5 platform parameters the algo trading authorization**"
   ]
  },
  {
   "cell_type": "code",
   "execution_count": 2,
   "id": "78f74793",
   "metadata": {},
   "outputs": [
    {
     "data": {
      "text/plain": [
       "True"
      ]
     },
     "execution_count": 2,
     "metadata": {},
     "output_type": "execute_result"
    }
   ],
   "source": [
    "# Initialize the bound\n",
    "mt5.initialize()"
   ]
  },
  {
   "cell_type": "markdown",
   "id": "370e4afe",
   "metadata": {},
   "source": [
    "### Check the last error nature to understand how to correct it\n",
    "\n",
    "Link to the list of error codes: https://www.mql5.com/fr/docs/integration/python_metatrader5/mt5lasterror_py"
   ]
  },
  {
   "cell_type": "code",
   "execution_count": 3,
   "id": "4c2936b4",
   "metadata": {},
   "outputs": [
    {
     "data": {
      "text/plain": [
       "(1, 'Success')"
      ]
     },
     "execution_count": 3,
     "metadata": {},
     "output_type": "execute_result"
    }
   ],
   "source": [
    "# Check last error\n",
    "mt5.last_error()"
   ]
  },
  {
   "cell_type": "code",
   "execution_count": 4,
   "id": "445427b9",
   "metadata": {},
   "outputs": [
    {
     "data": {
      "text/plain": [
       "True"
      ]
     },
     "execution_count": 4,
     "metadata": {},
     "output_type": "execute_result"
    }
   ],
   "source": [
    "# Clsoe the bound between MT5 and Python\n",
    "mt5.shutdown()"
   ]
  },
  {
   "cell_type": "code",
   "execution_count": 5,
   "id": "62dd3c4b",
   "metadata": {},
   "outputs": [
    {
     "data": {
      "text/plain": [
       "(1, 'Success')"
      ]
     },
     "execution_count": 5,
     "metadata": {},
     "output_type": "execute_result"
    }
   ],
   "source": [
    "# Check last error\n",
    "mt5.last_error()"
   ]
  },
  {
   "cell_type": "code",
   "execution_count": 6,
   "id": "0d5f00f2",
   "metadata": {},
   "outputs": [],
   "source": [
    "# Call a function when the bound is down (No visual error but no exit)\n",
    "mt5.account_info()"
   ]
  },
  {
   "cell_type": "code",
   "execution_count": 7,
   "id": "aefff9db",
   "metadata": {},
   "outputs": [
    {
     "data": {
      "text/plain": [
       "(-10004, 'No IPC connection')"
      ]
     },
     "execution_count": 7,
     "metadata": {},
     "output_type": "execute_result"
    }
   ],
   "source": [
    "# Check last error\n",
    "mt5.last_error()"
   ]
  },
  {
   "cell_type": "code",
   "execution_count": 9,
   "id": "5faa7c42",
   "metadata": {},
   "outputs": [
    {
     "data": {
      "text/plain": [
       "True"
      ]
     },
     "execution_count": 9,
     "metadata": {},
     "output_type": "execute_result"
    }
   ],
   "source": [
    "# Initialize the bound\n",
    "mt5.initialize()"
   ]
  },
  {
   "cell_type": "markdown",
   "id": "2afdead9",
   "metadata": {},
   "source": [
    "### Extract account information"
   ]
  },
  {
   "cell_type": "code",
   "execution_count": 10,
   "id": "497b7c38",
   "metadata": {},
   "outputs": [
    {
     "data": {
      "text/plain": [
       "AccountInfo(login=41889820, trade_mode=0, leverage=30, limit_orders=500, margin_so_mode=0, trade_allowed=True, trade_expert=True, margin_mode=2, currency_digits=2, fifo_close=False, balance=10045.98, credit=0.0, profit=-0.72, equity=10045.26, margin=32.04, margin_free=10013.22, margin_level=31352.247191011236, margin_so_call=100.0, margin_so_so=50.0, margin_initial=0.0, margin_maintenance=0.0, assets=0.0, liabilities=0.0, commission_blocked=0.0, name='Lucas Inglese', server='AdmiralMarkets-Demo', ...)"
      ]
     },
     "execution_count": 10,
     "metadata": {},
     "output_type": "execute_result"
    }
   ],
   "source": [
    "# Extract account information\n",
    "mt5.account_info()"
   ]
  },
  {
   "cell_type": "code",
   "execution_count": 12,
   "id": "caba923a",
   "metadata": {},
   "outputs": [
    {
     "data": {
      "text/plain": [
       "10045.98"
      ]
     },
     "execution_count": 12,
     "metadata": {},
     "output_type": "execute_result"
    }
   ],
   "source": [
    "# Extract balance account\n",
    "information = mt5.account_info()\n",
    "information.balance"
   ]
  },
  {
   "cell_type": "code",
   "execution_count": 13,
   "id": "7a6ba2ea",
   "metadata": {},
   "outputs": [
    {
     "data": {
      "text/plain": [
       "41889820"
      ]
     },
     "execution_count": 13,
     "metadata": {},
     "output_type": "execute_result"
    }
   ],
   "source": [
    "# Extract log account\n",
    "information.login"
   ]
  },
  {
   "cell_type": "code",
   "execution_count": 14,
   "id": "060793f8",
   "metadata": {},
   "outputs": [
    {
     "data": {
      "text/plain": [
       "30"
      ]
     },
     "execution_count": 14,
     "metadata": {},
     "output_type": "execute_result"
    }
   ],
   "source": [
    "# Extract leverage account\n",
    "information.leverage"
   ]
  },
  {
   "cell_type": "code",
   "execution_count": 15,
   "id": "7e9cc92e",
   "metadata": {},
   "outputs": [
    {
     "data": {
      "text/plain": [
       "'AdmiralMarkets-Demo'"
      ]
     },
     "execution_count": 15,
     "metadata": {},
     "output_type": "execute_result"
    }
   ],
   "source": [
    "# Extract server account\n",
    "information.server"
   ]
  },
  {
   "cell_type": "markdown",
   "id": "74f6c123",
   "metadata": {},
   "source": [
    "### Add a symbol into the market watch"
   ]
  },
  {
   "cell_type": "code",
   "execution_count": 16,
   "id": "511601b0",
   "metadata": {},
   "outputs": [
    {
     "data": {
      "text/plain": [
       "True"
      ]
     },
     "execution_count": 16,
     "metadata": {},
     "output_type": "execute_result"
    }
   ],
   "source": [
    "# Add a symbol into the market watch\n",
    "mt5.symbol_select(\"USDCAD-Z\")"
   ]
  },
  {
   "cell_type": "markdown",
   "id": "a3daeb5b",
   "metadata": {},
   "source": [
    "### Extract symbol information"
   ]
  },
  {
   "cell_type": "code",
   "execution_count": 17,
   "id": "835dd8e5",
   "metadata": {},
   "outputs": [
    {
     "data": {
      "text/plain": [
       "SymbolInfo(custom=False, chart_mode=0, select=True, visible=True, session_deals=0, session_buy_orders=0, session_sell_orders=0, volume=0, volumehigh=0, volumelow=0, time=1677068161, digits=5, spread=0, spread_float=True, ticks_bookdepth=5, trade_calc_mode=0, trade_mode=4, start_time=0, expiration_time=0, trade_stops_level=1, trade_freeze_level=0, trade_exemode=2, swap_mode=1, swap_rollover3days=3, margin_hedged_use_leg=False, expiration_mode=15, filling_mode=3, order_mode=127, order_gtc_mode=0, ...)"
      ]
     },
     "execution_count": 17,
     "metadata": {},
     "output_type": "execute_result"
    }
   ],
   "source": [
    "# Extract all information\n",
    "mt5.symbol_info(\"EURUSD-Z\")"
   ]
  },
  {
   "cell_type": "code",
   "execution_count": 18,
   "id": "09764013",
   "metadata": {},
   "outputs": [
    {
     "data": {
      "text/plain": [
       "1.06386"
      ]
     },
     "execution_count": 18,
     "metadata": {},
     "output_type": "execute_result"
    }
   ],
   "source": [
    "# Extract bid price\n",
    "symbol = mt5.symbol_info(\"EURUSD-Z\")\n",
    "symbol.bid"
   ]
  },
  {
   "cell_type": "code",
   "execution_count": 19,
   "id": "6702f13b",
   "metadata": {},
   "outputs": [
    {
     "data": {
      "text/plain": [
       "1.06387"
      ]
     },
     "execution_count": 19,
     "metadata": {},
     "output_type": "execute_result"
    }
   ],
   "source": [
    "# Extract ask price\n",
    "symbol.ask"
   ]
  },
  {
   "cell_type": "code",
   "execution_count": 20,
   "id": "c1204dc4",
   "metadata": {},
   "outputs": [
    {
     "data": {
      "text/plain": [
       "'Euro vs US Dollar'"
      ]
     },
     "execution_count": 20,
     "metadata": {},
     "output_type": "execute_result"
    }
   ],
   "source": [
    "# Extract description symbol\n",
    "symbol.description"
   ]
  },
  {
   "cell_type": "code",
   "execution_count": 23,
   "id": "31fb0e98",
   "metadata": {},
   "outputs": [
    {
     "data": {
      "text/plain": [
       "0.01"
      ]
     },
     "execution_count": 23,
     "metadata": {},
     "output_type": "execute_result"
    }
   ],
   "source": [
    "# Extract min volume\n",
    "symbol.volume_min"
   ]
  },
  {
   "cell_type": "code",
   "execution_count": 24,
   "id": "2121a7c0",
   "metadata": {},
   "outputs": [
    {
     "data": {
      "text/plain": [
       "100000.0"
      ]
     },
     "execution_count": 24,
     "metadata": {},
     "output_type": "execute_result"
    }
   ],
   "source": [
    "symbol.trade_contract_size"
   ]
  },
  {
   "cell_type": "code",
   "execution_count": null,
   "id": "db7b6c05",
   "metadata": {},
   "outputs": [],
   "source": []
  }
 ],
 "metadata": {
  "kernelspec": {
   "display_name": "Python 3 (ipykernel)",
   "language": "python",
   "name": "python3"
  },
  "language_info": {
   "codemirror_mode": {
    "name": "ipython",
    "version": 3
   },
   "file_extension": ".py",
   "mimetype": "text/x-python",
   "name": "python",
   "nbconvert_exporter": "python",
   "pygments_lexer": "ipython3",
   "version": "3.9.12"
  }
 },
 "nbformat": 4,
 "nbformat_minor": 5
}
