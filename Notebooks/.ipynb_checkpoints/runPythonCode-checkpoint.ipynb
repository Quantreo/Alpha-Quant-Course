{
 "cells": [
  {
   "cell_type": "code",
   "execution_count": null,
   "id": "eb872e5b",
   "metadata": {},
   "outputs": [],
   "source": [
    "import os\n",
    "#script_path = '../Data/create_databases.py'\n",
    "script_path = '../Data/HighLowTime.py'\n",
    "os.system(f'python {script_path}')\n",
    "!python $script_path\n",
    "\n"
   ]
  },
  {
   "cell_type": "code",
   "execution_count": null,
   "id": "061d1a16",
   "metadata": {},
   "outputs": [],
   "source": []
  },
  {
   "cell_type": "code",
   "execution_count": null,
   "id": "b9a2e649",
   "metadata": {},
   "outputs": [],
   "source": []
  }
 ],
 "metadata": {
  "kernelspec": {
   "display_name": "Python 3 (ipykernel)",
   "language": "python",
   "name": "python3"
  },
  "language_info": {
   "codemirror_mode": {
    "name": "ipython",
    "version": 3
   },
   "file_extension": ".py",
   "mimetype": "text/x-python",
   "name": "python",
   "nbconvert_exporter": "python",
   "pygments_lexer": "ipython3",
   "version": "3.10.9"
  }
 },
 "nbformat": 4,
 "nbformat_minor": 5
}
